{
 "cells": [
  {
   "cell_type": "code",
   "execution_count": 60,
   "id": "aca24c16-5351-4c3d-a47b-8c23d89331a4",
   "metadata": {
    "slideshow": {
     "slide_type": "skip"
    },
    "tags": []
   },
   "outputs": [],
   "source": [
    "from IPython import display"
   ]
  },
  {
   "cell_type": "code",
   "execution_count": 61,
   "id": "27bc6a2e-33ea-4ed8-8e1d-b5ec2868a116",
   "metadata": {
    "slideshow": {
     "slide_type": "slide"
    },
    "tags": []
   },
   "outputs": [
    {
     "data": {
      "text/markdown": [
       "# Hello, World!"
      ]
     },
     "metadata": {},
     "output_type": "display_data"
    },
    {
     "data": {
      "text/markdown": [
       "# Slide 1 in Markdown"
      ]
     },
     "metadata": {},
     "output_type": "display_data"
    }
   ],
   "source": [
    "display.display_markdown('# Hello, World!', raw=True)\n",
    "display.display_markdown('# Slide 1 in Markdown', raw=True)\n"
   ]
  },
  {
   "cell_type": "code",
   "execution_count": 62,
   "id": "87d3cb40-4734-4544-baeb-0bf88bda8f46",
   "metadata": {
    "slideshow": {
     "slide_type": "slide"
    },
    "tags": []
   },
   "outputs": [
    {
     "data": {
      "text/html": [
       "<h1 style=\"color: green;\">Hello, World!</h1>"
      ]
     },
     "metadata": {},
     "output_type": "display_data"
    },
    {
     "data": {
      "text/html": [
       "<h2>Slide 2 in <span style=\"color: red\">HTML</span></h2>"
      ]
     },
     "metadata": {},
     "output_type": "display_data"
    }
   ],
   "source": [
    "import random\n",
    "\n",
    "rand_number = random.random()\n",
    "color = 'blue' if rand_number < 0.3 else 'red'\n",
    "\n",
    "display.display_html('<h1 style=\"color: green;\">Hello, World!</h1>', raw=True)\n",
    "\n",
    "display.display_html(f'<h2>Slide 2 in <span style=\"color: {color}\">HTML</span></h2>', raw=True)\n"
   ]
  },
  {
   "cell_type": "code",
   "execution_count": 63,
   "id": "73f2d7e9-e0a7-4423-b957-7fe2a6f029bf",
   "metadata": {
    "slideshow": {
     "slide_type": "slide"
    },
    "tags": []
   },
   "outputs": [
    {
     "data": {
      "text/markdown": [
       "# Slide 3"
      ]
     },
     "metadata": {},
     "output_type": "display_data"
    }
   ],
   "source": [
    "display.display_markdown('# Slide 3', raw=True)"
   ]
  },
  {
   "cell_type": "code",
   "execution_count": 64,
   "id": "2fe3e835-0363-4918-b24d-2d556502f026",
   "metadata": {
    "slideshow": {
     "slide_type": "skip"
    },
    "tags": []
   },
   "outputs": [
    {
     "name": "stdout",
     "output_type": "stream",
     "text": [
      "[NbConvertApp] Converting notebook 02_input_output_html.ipynb to slides\n",
      "[NbConvertApp] Writing 572980 bytes to 02_input_output_html.slides.html\n"
     ]
    }
   ],
   "source": [
    "!jupyter nbconvert 02_input_output_html.ipynb --to slides --no-input\n",
    "!open 02_input_output_html.slides.html"
   ]
  },
  {
   "cell_type": "code",
   "execution_count": 65,
   "id": "a307e988-e9ed-4a3b-a240-e40c9603c40a",
   "metadata": {
    "slideshow": {
     "slide_type": "skip"
    },
    "tags": []
   },
   "outputs": [
    {
     "name": "stdout",
     "output_type": "stream",
     "text": [
      "[NbConvertApp] Converting notebook 02_input_output_html.ipynb to html\n",
      "[NbConvertApp] Writing 568533 bytes to 02_input_output_html.html\n"
     ]
    }
   ],
   "source": [
    "!jupyter nbconvert 02_input_output_html.ipynb --to html --no-input\n",
    "!open 02_input_output_html.html"
   ]
  }
 ],
 "metadata": {
  "kernelspec": {
   "display_name": "Python 3",
   "language": "python",
   "name": "python3"
  },
  "language_info": {
   "codemirror_mode": {
    "name": "ipython",
    "version": 3
   },
   "file_extension": ".py",
   "mimetype": "text/x-python",
   "name": "python",
   "nbconvert_exporter": "python",
   "pygments_lexer": "ipython3",
   "version": "3.9.2"
  }
 },
 "nbformat": 4,
 "nbformat_minor": 5
}
