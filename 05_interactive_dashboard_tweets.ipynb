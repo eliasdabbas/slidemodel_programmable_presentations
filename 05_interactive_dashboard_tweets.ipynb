{
 "cells": [
  {
   "cell_type": "code",
   "execution_count": 1,
   "id": "dda9d2d3-0bf8-4c7d-b8d6-1e1e6519842c",
   "metadata": {
    "slideshow": {
     "slide_type": "slide"
    },
    "tags": []
   },
   "outputs": [
    {
     "data": {
      "text/html": [
       "\n",
       "\n",
       "<style>\n",
       "\n",
       ".reveal-viewport {\n",
       "  background-image: url(\"bg_image.jpg\");\n",
       "  background-position: center;\n",
       "  background-repeat: no-repeat;\n",
       "  background-size: cover;\n",
       "  position: relative;\n",
       "}\n",
       "\n",
       "</style>\n",
       "\n"
      ]
     },
     "metadata": {},
     "output_type": "display_data"
    }
   ],
   "source": [
    "from IPython import display\n",
    "display.display_html(\"\"\"\n",
    "\n",
    "<style>\n",
    "\n",
    ".reveal-viewport {\n",
    "  background-image: url(\"bg_image.jpg\");\n",
    "  background-position: center;\n",
    "  background-repeat: no-repeat;\n",
    "  background-size: cover;\n",
    "  position: relative;\n",
    "}\n",
    "\n",
    "</style>\n",
    "\n",
    "\"\"\", raw=True)"
   ]
  },
  {
   "cell_type": "code",
   "execution_count": 2,
   "id": "547e40c5-0056-480c-9717-2918a4be902f",
   "metadata": {
    "slideshow": {
     "slide_type": "skip"
    },
    "tags": []
   },
   "outputs": [],
   "source": [
    "import datetime                             # handling and formatting datetime objects\n",
    "from IPython import display                 # displaying rich objects in the Jupyter notbook\n",
    "import pandas as pd                         # for general data manipulation and processing\n",
    "import advertools as adv                    # for creating the absolute and weighted count\n",
    "import plotly.express as px                 # for data visualization\n",
    "from jupyter_dash import JupyterDash        # creating Dash apps in Jupyter\n",
    "from dash import dcc, html, Input, Output   # various Dash modules for the components we use\n",
    "from plotly.subplots import make_subplots   # to create side-by-side plots in a single figure "
   ]
  },
  {
   "cell_type": "code",
   "execution_count": 3,
   "id": "0dbef539-3e36-4037-a470-8da46eabcced",
   "metadata": {
    "slideshow": {
     "slide_type": "slide"
    },
    "tags": []
   },
   "outputs": [
    {
     "data": {
      "text/html": [
       "<h1>Automated Tweets Analysis</h1>"
      ]
     },
     "metadata": {},
     "output_type": "display_data"
    }
   ],
   "source": [
    "display.display_html(\"<h1>Automated Tweets Analysis</h1>\",\n",
    "                         raw=True)"
   ]
  },
  {
   "cell_type": "code",
   "execution_count": 4,
   "id": "e5c2cc46-91fd-495b-a6b7-96799f83b9f2",
   "metadata": {
    "slideshow": {
     "slide_type": "slide"
    },
    "tags": []
   },
   "outputs": [
    {
     "data": {
      "text/html": [
       "<h1> Dataset overview (first five rows):</h1>"
      ]
     },
     "metadata": {},
     "output_type": "display_data"
    },
    {
     "data": {
      "text/html": [
       "<div>\n",
       "<style scoped>\n",
       "    .dataframe tbody tr th:only-of-type {\n",
       "        vertical-align: middle;\n",
       "    }\n",
       "\n",
       "    .dataframe tbody tr th {\n",
       "        vertical-align: top;\n",
       "    }\n",
       "\n",
       "    .dataframe thead th {\n",
       "        text-align: right;\n",
       "    }\n",
       "</style>\n",
       "<table border=\"1\" class=\"dataframe\">\n",
       "  <thead>\n",
       "    <tr style=\"text-align: right;\">\n",
       "      <th></th>\n",
       "      <th>tweet_created_at</th>\n",
       "      <th>tweet_id</th>\n",
       "      <th>tweet_id_str</th>\n",
       "      <th>tweet_full_text</th>\n",
       "      <th>tweet_entities_mentions</th>\n",
       "      <th>tweet_entities_hashtags</th>\n",
       "      <th>tweet_entities_urls</th>\n",
       "      <th>tweet_entities_symbols</th>\n",
       "      <th>tweet_entities_media</th>\n",
       "      <th>tweet_source</th>\n",
       "      <th>...</th>\n",
       "      <th>user_has_extended_profile</th>\n",
       "      <th>user_default_profile</th>\n",
       "      <th>user_default_profile_image</th>\n",
       "      <th>user_following</th>\n",
       "      <th>user_follow_request_sent</th>\n",
       "      <th>user_notifications</th>\n",
       "      <th>user_translator_type</th>\n",
       "      <th>user_withheld_in_countries</th>\n",
       "      <th>user_profile_banner_url</th>\n",
       "      <th>tweet_source_url</th>\n",
       "    </tr>\n",
       "  </thead>\n",
       "  <tbody>\n",
       "    <tr>\n",
       "      <th>0</th>\n",
       "      <td>2021-11-10T09:43:19+00:00</td>\n",
       "      <td>1458369669648183300</td>\n",
       "      <td>1458369669648183296</td>\n",
       "      <td>@tailopez Bitcoin is Changing life's change mi...</td>\n",
       "      <td>@tailopez, @tailopez</td>\n",
       "      <td>NaN</td>\n",
       "      <td>NaN</td>\n",
       "      <td>NaN</td>\n",
       "      <td>NaN</td>\n",
       "      <td>Twitter for Android</td>\n",
       "      <td>...</td>\n",
       "      <td>True</td>\n",
       "      <td>True</td>\n",
       "      <td>False</td>\n",
       "      <td>False</td>\n",
       "      <td>False</td>\n",
       "      <td>False</td>\n",
       "      <td>none</td>\n",
       "      <td>[]</td>\n",
       "      <td>NaN</td>\n",
       "      <td>http://twitter.com/download/android</td>\n",
       "    </tr>\n",
       "    <tr>\n",
       "      <th>1</th>\n",
       "      <td>2021-11-10T09:43:15+00:00</td>\n",
       "      <td>1458369655475671000</td>\n",
       "      <td>1458369655475671040</td>\n",
       "      <td>Did you know how easy it is to manage your inv...</td>\n",
       "      <td>NaN</td>\n",
       "      <td>#Bitcoin</td>\n",
       "      <td>NaN</td>\n",
       "      <td>$BTC</td>\n",
       "      <td>http://pbs.twimg.com/media/FD0rccqXsAQB1Q2.png</td>\n",
       "      <td>Twitter Web App</td>\n",
       "      <td>...</td>\n",
       "      <td>True</td>\n",
       "      <td>True</td>\n",
       "      <td>False</td>\n",
       "      <td>False</td>\n",
       "      <td>False</td>\n",
       "      <td>False</td>\n",
       "      <td>none</td>\n",
       "      <td>[]</td>\n",
       "      <td>https://pbs.twimg.com/profile_banners/14441719...</td>\n",
       "      <td>https://mobile.twitter.com</td>\n",
       "    </tr>\n",
       "    <tr>\n",
       "      <th>2</th>\n",
       "      <td>2021-11-10T09:43:14+00:00</td>\n",
       "      <td>1458369651763712000</td>\n",
       "      <td>1458369651763712000</td>\n",
       "      <td>For family/friends asking about #Bitcoin’s sca...</td>\n",
       "      <td>NaN</td>\n",
       "      <td>#Bitcoin</td>\n",
       "      <td>NaN</td>\n",
       "      <td>NaN</td>\n",
       "      <td>NaN</td>\n",
       "      <td>Twitter for iPhone</td>\n",
       "      <td>...</td>\n",
       "      <td>False</td>\n",
       "      <td>True</td>\n",
       "      <td>False</td>\n",
       "      <td>False</td>\n",
       "      <td>False</td>\n",
       "      <td>False</td>\n",
       "      <td>none</td>\n",
       "      <td>[]</td>\n",
       "      <td>https://pbs.twimg.com/profile_banners/83332828...</td>\n",
       "      <td>http://twitter.com/download/iphone</td>\n",
       "    </tr>\n",
       "    <tr>\n",
       "      <th>3</th>\n",
       "      <td>2021-11-10T09:43:14+00:00</td>\n",
       "      <td>1458369648878096400</td>\n",
       "      <td>1458369648878096386</td>\n",
       "      <td>Have you been in search of A developer to help...</td>\n",
       "      <td>NaN</td>\n",
       "      <td>#Bitcoin, #coin, #cryptogiveaway</td>\n",
       "      <td>https://www.fiverr.com/share/bmg3mq, https://t...</td>\n",
       "      <td>NaN</td>\n",
       "      <td>http://pbs.twimg.com/media/FD0raiLWEAIJKiL.png</td>\n",
       "      <td>Twitter Web App</td>\n",
       "      <td>...</td>\n",
       "      <td>True</td>\n",
       "      <td>True</td>\n",
       "      <td>False</td>\n",
       "      <td>False</td>\n",
       "      <td>False</td>\n",
       "      <td>False</td>\n",
       "      <td>none</td>\n",
       "      <td>[]</td>\n",
       "      <td>NaN</td>\n",
       "      <td>https://mobile.twitter.com</td>\n",
       "    </tr>\n",
       "    <tr>\n",
       "      <th>4</th>\n",
       "      <td>2021-11-10T09:43:13+00:00</td>\n",
       "      <td>1458369646323806200</td>\n",
       "      <td>1458369646323806212</td>\n",
       "      <td>Popular Trader Says Bitcoin (BTC) Price Will K...</td>\n",
       "      <td>NaN</td>\n",
       "      <td>NaN</td>\n",
       "      <td>https://cryptossor.com/popular-trader-says-bit...</td>\n",
       "      <td>NaN</td>\n",
       "      <td>NaN</td>\n",
       "      <td>WordPress.com</td>\n",
       "      <td>...</td>\n",
       "      <td>False</td>\n",
       "      <td>True</td>\n",
       "      <td>False</td>\n",
       "      <td>False</td>\n",
       "      <td>False</td>\n",
       "      <td>False</td>\n",
       "      <td>none</td>\n",
       "      <td>[]</td>\n",
       "      <td>https://pbs.twimg.com/profile_banners/12244037...</td>\n",
       "      <td>http://publicize.wp.com/</td>\n",
       "    </tr>\n",
       "  </tbody>\n",
       "</table>\n",
       "<p>5 rows × 68 columns</p>\n",
       "</div>"
      ],
      "text/plain": [
       "            tweet_created_at             tweet_id         tweet_id_str  \\\n",
       "0  2021-11-10T09:43:19+00:00  1458369669648183300  1458369669648183296   \n",
       "1  2021-11-10T09:43:15+00:00  1458369655475671000  1458369655475671040   \n",
       "2  2021-11-10T09:43:14+00:00  1458369651763712000  1458369651763712000   \n",
       "3  2021-11-10T09:43:14+00:00  1458369648878096400  1458369648878096386   \n",
       "4  2021-11-10T09:43:13+00:00  1458369646323806200  1458369646323806212   \n",
       "\n",
       "                                     tweet_full_text tweet_entities_mentions  \\\n",
       "0  @tailopez Bitcoin is Changing life's change mi...    @tailopez, @tailopez   \n",
       "1  Did you know how easy it is to manage your inv...                     NaN   \n",
       "2  For family/friends asking about #Bitcoin’s sca...                     NaN   \n",
       "3  Have you been in search of A developer to help...                     NaN   \n",
       "4  Popular Trader Says Bitcoin (BTC) Price Will K...                     NaN   \n",
       "\n",
       "            tweet_entities_hashtags  \\\n",
       "0                               NaN   \n",
       "1                          #Bitcoin   \n",
       "2                          #Bitcoin   \n",
       "3  #Bitcoin, #coin, #cryptogiveaway   \n",
       "4                               NaN   \n",
       "\n",
       "                                 tweet_entities_urls tweet_entities_symbols  \\\n",
       "0                                                NaN                    NaN   \n",
       "1                                                NaN                   $BTC   \n",
       "2                                                NaN                    NaN   \n",
       "3  https://www.fiverr.com/share/bmg3mq, https://t...                    NaN   \n",
       "4  https://cryptossor.com/popular-trader-says-bit...                    NaN   \n",
       "\n",
       "                             tweet_entities_media         tweet_source  ...  \\\n",
       "0                                             NaN  Twitter for Android  ...   \n",
       "1  http://pbs.twimg.com/media/FD0rccqXsAQB1Q2.png      Twitter Web App  ...   \n",
       "2                                             NaN   Twitter for iPhone  ...   \n",
       "3  http://pbs.twimg.com/media/FD0raiLWEAIJKiL.png      Twitter Web App  ...   \n",
       "4                                             NaN        WordPress.com  ...   \n",
       "\n",
       "   user_has_extended_profile  user_default_profile  \\\n",
       "0                       True                  True   \n",
       "1                       True                  True   \n",
       "2                      False                  True   \n",
       "3                       True                  True   \n",
       "4                      False                  True   \n",
       "\n",
       "   user_default_profile_image  user_following user_follow_request_sent  \\\n",
       "0                       False           False                    False   \n",
       "1                       False           False                    False   \n",
       "2                       False           False                    False   \n",
       "3                       False           False                    False   \n",
       "4                       False           False                    False   \n",
       "\n",
       "   user_notifications  user_translator_type  user_withheld_in_countries  \\\n",
       "0               False                  none                          []   \n",
       "1               False                  none                          []   \n",
       "2               False                  none                          []   \n",
       "3               False                  none                          []   \n",
       "4               False                  none                          []   \n",
       "\n",
       "                             user_profile_banner_url  \\\n",
       "0                                                NaN   \n",
       "1  https://pbs.twimg.com/profile_banners/14441719...   \n",
       "2  https://pbs.twimg.com/profile_banners/83332828...   \n",
       "3                                                NaN   \n",
       "4  https://pbs.twimg.com/profile_banners/12244037...   \n",
       "\n",
       "                      tweet_source_url  \n",
       "0  http://twitter.com/download/android  \n",
       "1           https://mobile.twitter.com  \n",
       "2   http://twitter.com/download/iphone  \n",
       "3           https://mobile.twitter.com  \n",
       "4             http://publicize.wp.com/  \n",
       "\n",
       "[5 rows x 68 columns]"
      ]
     },
     "execution_count": 4,
     "metadata": {},
     "output_type": "execute_result"
    }
   ],
   "source": [
    "tweets = pd.read_csv('data/bitcoin_tweets.csv')\n",
    "topic = 'bitcoin'\n",
    "\n",
    "display.display_html(\"<h1> Dataset overview (first five rows):</h1>\",\n",
    "                         raw=True)\n",
    "\n",
    "tweets.head()"
   ]
  },
  {
   "cell_type": "code",
   "execution_count": 5,
   "id": "ab324f49-b793-490f-97b7-174d82ef8235",
   "metadata": {
    "slideshow": {
     "slide_type": "skip"
    },
    "tags": []
   },
   "outputs": [],
   "source": [
    "tweet_count = tweets.shape[0]\n",
    "user_count = tweets['user_screen_name'].nunique()\n",
    "tweets_per_user = tweet_count / user_count\n",
    "sart_date = datetime.datetime.strptime(tweets['tweet_created_at'].min()[:-9], '%Y-%m-%dT%H:%M')\n",
    "end_date = datetime.datetime.strptime(tweets['tweet_created_at'].max()[:-9], '%Y-%m-%dT%H:%M')"
   ]
  },
  {
   "cell_type": "code",
   "execution_count": 6,
   "id": "d1429478-bdf4-4b2a-9b72-07fc9053b99c",
   "metadata": {
    "slideshow": {
     "slide_type": "slide"
    },
    "tags": []
   },
   "outputs": [
    {
     "data": {
      "text/markdown": [
       "\n",
       "\n",
       "# Tweets analysis\n",
       "\n",
       "## Topic: _bitcoin_\n",
       "\n",
       "### Date range: \n",
       "### From: Wednesday Nov. 10, 2021 09:00:00\n",
       "### To: Wednesday Nov. 10, 2021 09:43:00\n",
       "\n",
       "#### Number of tweets: 2,137\n",
       "#### Number of users: 1,185\n",
       "#### Tweets per user: 1.80\n",
       "\n"
      ]
     },
     "metadata": {},
     "output_type": "display_data"
    }
   ],
   "source": [
    "display.display_markdown(f'''\n",
    "\n",
    "# Tweets analysis\n",
    "\n",
    "## Topic: _{topic}_\n",
    "\n",
    "### Date range: \n",
    "### From: {sart_date.strftime('%A %b. %d, %Y %H:%M:%S')}\n",
    "### To: {end_date.strftime('%A %b. %d, %Y %H:%M:%S')}\n",
    "\n",
    "#### Number of tweets: {tweet_count:,}\n",
    "#### Number of users: {user_count:,}\n",
    "#### Tweets per user: {tweets_per_user:.2f}\n",
    "\n",
    "''', raw=True)"
   ]
  },
  {
   "cell_type": "code",
   "execution_count": 7,
   "id": "13a03971-f1e7-467c-a2c0-304b64ab584e",
   "metadata": {
    "slideshow": {
     "slide_type": "slide"
    },
    "tags": []
   },
   "outputs": [
    {
     "data": {
      "text/html": [
       "\n",
       "        <iframe\n",
       "            width=\"100%\"\n",
       "            height=\"650\"\n",
       "            src=\"http://127.0.0.1:1111/\"\n",
       "            frameborder=\"0\"\n",
       "            allowfullscreen\n",
       "            \n",
       "        ></iframe>\n",
       "        "
      ],
      "text/plain": [
       "<IPython.lib.display.IFrame at 0x1361efd30>"
      ]
     },
     "metadata": {},
     "output_type": "display_data"
    }
   ],
   "source": [
    "import dash_bootstrap_components as dbc\n",
    "app = JupyterDash(__name__)\n",
    "\n",
    "label_metric = {\n",
    "    'Most followed accounts': 'user_followers_count',\n",
    "    'Most retweeted tweets': 'tweet_retweet_count',\n",
    "    'Most liked tweets': 'tweet_favorite_count',\n",
    "}\n",
    "\n",
    "xaxis_labels = {\n",
    "    'user_followers_count': 'Followers',\n",
    "    'tweet_retweet_count': 'Retweets',\n",
    "    'tweet_favorite_count': 'Likes',\n",
    "}\n",
    "\n",
    "app.layout = html.Div([\n",
    "    html.Br(), html.Br(), html.Br(),\n",
    "    dcc.Dropdown(id='most_dropdown',\n",
    "                 value='user_followers_count',\n",
    "                 options=[{'label': key, 'value': val}\n",
    "                          for key, val in label_metric.items()]),\n",
    "    dcc.Graph(id='most_charts')\n",
    "])\n",
    "\n",
    "\n",
    "@app.callback(Output('most_charts', 'figure'), Input('most_dropdown', 'value'))\n",
    "def plot_most_tweets(metric):\n",
    "    most_tweets  = (tweets\n",
    "                     .sort_values([metric], \n",
    "                                  ascending=False)\n",
    "                     [['user_name', 'user_screen_name', 'tweet_full_text', metric]]\n",
    "                     .drop_duplicates('user_screen_name'))[:15][::-1]\n",
    "    most_tweets['user_screen_name'] = '@' + most_tweets['user_screen_name']\n",
    "    multiline_tweets = ['<br>'.join(adv.ad_from_string(x, [100, 100, 100])) \n",
    "                        for x in most_tweets['tweet_full_text']]\n",
    "    most_tweets['tweet_multi_line'] = multiline_tweets\n",
    "    most_tweets['tweet_trimmed'] = most_tweets['tweet_full_text'].str[:40] + '...'\n",
    "    if 'user' in metric:\n",
    "        y = 'user_screen_name'\n",
    "        hover_data = ['user_screen_name']\n",
    "    else:\n",
    "        y = 'tweet_trimmed'\n",
    "        hover_data = {'tweet_multi_line': True, 'tweet_trimmed': False}\n",
    "    fig = px.bar(most_tweets,template='none',\n",
    "                 x=metric,\n",
    "                 y=y,\n",
    "                 orientation='h',\n",
    "                 hover_data=hover_data,\n",
    "                 labels=xaxis_labels,\n",
    "                 hover_name='user_screen_name',\n",
    "                 height=600)\n",
    "    fig.layout.yaxis.title = None\n",
    "    fig.layout.margin = {'l': 330}\n",
    "    return fig\n",
    "\n",
    "app.run_server(mode='inline', port=1111);"
   ]
  },
  {
   "cell_type": "code",
   "execution_count": 8,
   "id": "8589fb29-06d1-427a-b270-927be408900f",
   "metadata": {
    "slideshow": {
     "slide_type": "skip"
    },
    "tags": []
   },
   "outputs": [
    {
     "data": {
      "text/html": [
       "<div>\n",
       "<style scoped>\n",
       "    .dataframe tbody tr th:only-of-type {\n",
       "        vertical-align: middle;\n",
       "    }\n",
       "\n",
       "    .dataframe tbody tr th {\n",
       "        vertical-align: top;\n",
       "    }\n",
       "\n",
       "    .dataframe thead th {\n",
       "        text-align: right;\n",
       "    }\n",
       "</style>\n",
       "<table border=\"1\" class=\"dataframe\">\n",
       "  <thead>\n",
       "    <tr style=\"text-align: right;\">\n",
       "      <th></th>\n",
       "      <th>word</th>\n",
       "      <th>abs_freq</th>\n",
       "      <th>wtd_freq</th>\n",
       "      <th>rel_value</th>\n",
       "    </tr>\n",
       "  </thead>\n",
       "  <tbody>\n",
       "    <tr>\n",
       "      <th>0</th>\n",
       "      <td>#bitcoin</td>\n",
       "      <td>1221</td>\n",
       "      <td>8147368</td>\n",
       "      <td>6673.0</td>\n",
       "    </tr>\n",
       "    <tr>\n",
       "      <th>1</th>\n",
       "      <td>bitcoin</td>\n",
       "      <td>1016</td>\n",
       "      <td>5510788</td>\n",
       "      <td>5424.0</td>\n",
       "    </tr>\n",
       "    <tr>\n",
       "      <th>2</th>\n",
       "      <td>#crypto</td>\n",
       "      <td>345</td>\n",
       "      <td>3149775</td>\n",
       "      <td>9130.0</td>\n",
       "    </tr>\n",
       "    <tr>\n",
       "      <th>3</th>\n",
       "      <td>#dogecoin</td>\n",
       "      <td>139</td>\n",
       "      <td>2861301</td>\n",
       "      <td>20585.0</td>\n",
       "    </tr>\n",
       "    <tr>\n",
       "      <th>4</th>\n",
       "      <td>#affiliatemarketing</td>\n",
       "      <td>109</td>\n",
       "      <td>2833632</td>\n",
       "      <td>25997.0</td>\n",
       "    </tr>\n",
       "  </tbody>\n",
       "</table>\n",
       "</div>"
      ],
      "text/plain": [
       "                  word  abs_freq  wtd_freq  rel_value\n",
       "0             #bitcoin      1221   8147368     6673.0\n",
       "1              bitcoin      1016   5510788     5424.0\n",
       "2              #crypto       345   3149775     9130.0\n",
       "3            #dogecoin       139   2861301    20585.0\n",
       "4  #affiliatemarketing       109   2833632    25997.0"
      ]
     },
     "execution_count": 8,
     "metadata": {},
     "output_type": "execute_result"
    }
   ],
   "source": [
    "word_freq_df = adv.word_frequency(tweets['tweet_full_text'], tweets['user_followers_count'])\n",
    "word_freq_df.head()"
   ]
  },
  {
   "cell_type": "code",
   "execution_count": 9,
   "id": "5d956a63-b37e-4c21-a856-30868934b852",
   "metadata": {
    "slideshow": {
     "slide_type": "skip"
    },
    "tags": []
   },
   "outputs": [],
   "source": [
    "fig = make_subplots(rows=1, cols=2, column_widths=[50, 50],\n",
    "                    subplot_titles=['Word absolute count', 'Word weighted count (by followers)'])\n",
    "\n",
    "fig.add_bar(x=word_freq_df.sort_values('abs_freq', ascending=False)['abs_freq'][:20][::-1],\n",
    "            y=word_freq_df.sort_values('abs_freq', ascending=False)['word'][:20][::-1],\n",
    "            orientation='h', row=1, col=1, showlegend=False)\n",
    "\n",
    "fig.add_bar(x=word_freq_df['wtd_freq'][:20][::-1],\n",
    "            y=word_freq_df['word'][:20][::-1],\n",
    "            orientation='h', row=1, col=2, showlegend=False)\n",
    "\n",
    "\n",
    "fig.layout.height = 700\n",
    "fig.layout.template = 'none'"
   ]
  },
  {
   "cell_type": "code",
   "execution_count": 10,
   "id": "e1c21518-6806-48f7-9b30-8c57b2ca9995",
   "metadata": {
    "slideshow": {
     "slide_type": "slide"
    },
    "tags": []
   },
   "outputs": [
    {
     "data": {
      "text/html": [
       "\n",
       "        <iframe\n",
       "            width=\"100%\"\n",
       "            height=\"650\"\n",
       "            src=\"http://127.0.0.1:1112/\"\n",
       "            frameborder=\"0\"\n",
       "            allowfullscreen\n",
       "            \n",
       "        ></iframe>\n",
       "        "
      ],
      "text/plain": [
       "<IPython.lib.display.IFrame at 0x1368ef040>"
      ]
     },
     "metadata": {},
     "output_type": "display_data"
    }
   ],
   "source": [
    "app2 = JupyterDash(__name__)\n",
    "\n",
    "app2.layout = html.Div([\n",
    "    html.Br(), html.Br(), html.Br(),\n",
    "    dcc.Graph(figure=fig, config={'displayModeBar': False})\n",
    "\n",
    "])\n",
    "app2.run_server(mode='inline', port=1112)"
   ]
  },
  {
   "cell_type": "code",
   "execution_count": 11,
   "id": "a5e0eb62-dbac-4e30-a89e-2f9a98a7fa1f",
   "metadata": {
    "slideshow": {
     "slide_type": "slide"
    },
    "tags": []
   },
   "outputs": [
    {
     "data": {
      "text/markdown": [
       "\n",
       "\n",
       "# Thank you\n",
       "\n"
      ]
     },
     "metadata": {},
     "output_type": "display_data"
    }
   ],
   "source": [
    "display.display_markdown(\"\"\"\n",
    "\n",
    "# Thank you\n",
    "\n",
    "\"\"\", raw=True)"
   ]
  },
  {
   "cell_type": "code",
   "execution_count": 12,
   "id": "b7173f8e-b6fc-4609-925f-777f3dcc4961",
   "metadata": {
    "slideshow": {
     "slide_type": "skip"
    },
    "tags": []
   },
   "outputs": [
    {
     "name": "stdout",
     "output_type": "stream",
     "text": [
      "[NbConvertApp] Converting notebook 05_interactive_dashboard_tweets.ipynb to slides\n",
      "[NbConvertApp] Writing 586002 bytes to 05_interactive_dashboard_tweets.slides.html\n"
     ]
    }
   ],
   "source": [
    "!jupyter nbconvert 05_interactive_dashboard_tweets.ipynb --to slides --no-input\n",
    "!open 05_interactive_dashboard_tweets.slides.html"
   ]
  }
 ],
 "metadata": {
  "kernelspec": {
   "display_name": "Python 3 (ipykernel)",
   "language": "python",
   "name": "python3"
  },
  "language_info": {
   "codemirror_mode": {
    "name": "ipython",
    "version": 3
   },
   "file_extension": ".py",
   "mimetype": "text/x-python",
   "name": "python",
   "nbconvert_exporter": "python",
   "pygments_lexer": "ipython3",
   "version": "3.10.1"
  }
 },
 "nbformat": 4,
 "nbformat_minor": 5
}
