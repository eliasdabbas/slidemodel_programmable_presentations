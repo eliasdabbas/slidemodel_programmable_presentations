{
 "cells": [
  {
   "cell_type": "code",
   "execution_count": 2,
   "id": "32fd3301-cb44-4f14-86eb-e6d8f1ef4570",
   "metadata": {
    "slideshow": {
     "slide_type": "skip"
    },
    "tags": []
   },
   "outputs": [
    {
     "name": "stderr",
     "output_type": "stream",
     "text": [
      "/Users/me/test_project/venv/lib/python3.9/site-packages/dash_bootstrap_components/_table.py:5: UserWarning: \n",
      "The dash_html_components package is deprecated. Please replace\n",
      "`import dash_html_components as html` with `from dash import html`\n",
      "  import dash_html_components as html\n"
     ]
    }
   ],
   "source": [
    "import plotly\n",
    "import plotly.express as px\n",
    "from jupyter_dash import JupyterDash\n",
    "\n",
    "import dash\n",
    "import dash_bootstrap_components as dbc\n",
    "from dash.dependencies import Output, Input\n",
    "from dash import Dash, dcc, html"
   ]
  },
  {
   "cell_type": "code",
   "execution_count": 3,
   "id": "71a49fcf-644a-42dd-839a-83fa9b7e5140",
   "metadata": {
    "slideshow": {
     "slide_type": "slide"
    },
    "tags": []
   },
   "outputs": [
    {
     "data": {
      "text/markdown": [
       "\n",
       "# The Favorite Day App!\n",
       "\n",
       "#### Tell us your favorite day, and see it magically appear on the slide!\n"
      ]
     },
     "metadata": {},
     "output_type": "display_data"
    }
   ],
   "source": [
    "from IPython import display\n",
    "\n",
    "display.display_markdown(\"\"\"\n",
    "# The Favorite Day App!\n",
    "\n",
    "#### Tell us your favorite day, and see it magically appear on the slide!\n",
    "\"\"\", raw=True)"
   ]
  },
  {
   "cell_type": "code",
   "execution_count": 4,
   "id": "a672e45e-17e8-4e00-a2e0-44f32939f9a2",
   "metadata": {
    "slideshow": {
     "slide_type": "slide"
    },
    "tags": []
   },
   "outputs": [
    {
     "data": {
      "text/html": [
       "\n",
       "        <iframe\n",
       "            width=\"100%\"\n",
       "            height=\"400\"\n",
       "            src=\"http://127.0.0.1:1234/\"\n",
       "            frameborder=\"0\"\n",
       "            allowfullscreen\n",
       "        ></iframe>\n",
       "        "
      ],
      "text/plain": [
       "<IPython.lib.display.IFrame at 0x7fefd17b1b80>"
      ]
     },
     "metadata": {},
     "output_type": "display_data"
    }
   ],
   "source": [
    "app = JupyterDash(__name__, external_stylesheets=[dbc.themes.BOOTSTRAP])\n",
    "\n",
    "days = ['Saturday', 'Sunday', 'Monday', 'Tuesday', 'Wednesday', 'Thursday', 'Friday']\n",
    "\n",
    "app.layout = html.Div([\n",
    "    dcc.Dropdown(id='dropdown', \n",
    "                 value='Tuesday',\n",
    "                 options=[{'label': day, 'value': day}\n",
    "                          for day in days]), html.Br(),\n",
    "    html.Div(id='ddown_selection')\n",
    "])\n",
    "\n",
    "@app.callback(Output('ddown_selection', 'children'),\n",
    "              Input('dropdown', 'value'))\n",
    "def display_day(day):\n",
    "    return html.Div([html.H1(f\"My favorite day is {day}!\")])\n",
    "\n",
    "app.run_server(mode='inline', height=400, port=1234)"
   ]
  },
  {
   "cell_type": "code",
   "execution_count": 5,
   "id": "6434e348-3ace-499a-bd75-f8441a5af642",
   "metadata": {
    "slideshow": {
     "slide_type": "slide"
    },
    "tags": []
   },
   "outputs": [
    {
     "data": {
      "text/html": [
       "\n",
       "\n",
       "\n",
       "\n",
       "<h2>Thanks for using our app</h2>\n",
       "\n",
       "<h4>Please get in touch if you liked it</h4>\n",
       "\n",
       "<a href=\"mailto:hello@example.com\">hello@example.com</a>\n",
       "\n"
      ]
     },
     "metadata": {},
     "output_type": "display_data"
    }
   ],
   "source": [
    "display.display_html(\"\"\"\n",
    "\n",
    "\n",
    "\n",
    "<h2>Thanks for using our app</h2>\n",
    "\n",
    "<h4>Please get in touch if you liked it</h4>\n",
    "\n",
    "<a href=\"mailto:hello@example.com\">hello@example.com</a>\n",
    "\n",
    "\"\"\", raw=True)"
   ]
  },
  {
   "cell_type": "code",
   "execution_count": 6,
   "id": "ac8683b2-65a5-4dbe-a44b-e06b33532faa",
   "metadata": {
    "slideshow": {
     "slide_type": "skip"
    },
    "tags": []
   },
   "outputs": [
    {
     "name": "stdout",
     "output_type": "stream",
     "text": [
      "[NbConvertApp] Converting notebook 04_interactive_dashboard.ipynb to slides\n",
      "[NbConvertApp] Writing 573625 bytes to 04_interactive_dashboard.slides.html\n"
     ]
    }
   ],
   "source": [
    "!jupyter nbconvert 04_interactive_dashboard.ipynb --to slides --no-input\n",
    "!open 04_interactive_dashboard.slides.html"
   ]
  }
 ],
 "metadata": {
  "kernelspec": {
   "display_name": "Python 3",
   "language": "python",
   "name": "python3"
  },
  "language_info": {
   "codemirror_mode": {
    "name": "ipython",
    "version": 3
   },
   "file_extension": ".py",
   "mimetype": "text/x-python",
   "name": "python",
   "nbconvert_exporter": "python",
   "pygments_lexer": "ipython3",
   "version": "3.9.2"
  }
 },
 "nbformat": 4,
 "nbformat_minor": 5
}
