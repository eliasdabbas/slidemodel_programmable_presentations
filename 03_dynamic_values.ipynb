{
 "cells": [
  {
   "cell_type": "code",
   "execution_count": 1,
   "id": "7a31ad92-2b60-4f52-b637-0b64a454e758",
   "metadata": {},
   "outputs": [],
   "source": [
    "from IPython import display"
   ]
  },
  {
   "cell_type": "code",
   "execution_count": 2,
   "id": "03727ea2-fe99-4f6e-bb38-135b3ed8b374",
   "metadata": {
    "slideshow": {
     "slide_type": "skip"
    },
    "tags": []
   },
   "outputs": [],
   "source": [
    "target = 10\n",
    "\n",
    "sales = {\n",
    "    'Jane': 11,\n",
    "    'Joe': 9,\n",
    "    'Dave': 13,\n",
    "    'Jessica': 12,\n",
    "}"
   ]
  },
  {
   "cell_type": "code",
   "execution_count": 3,
   "id": "f399b049-59d6-462c-8c48-fce4f68aec35",
   "metadata": {
    "slideshow": {
     "slide_type": "slide"
    },
    "tags": []
   },
   "outputs": [
    {
     "name": "stdout",
     "output_type": "stream",
     "text": [
      "Jane generated $11, and exceeded the target by 1\n",
      "Joe generated $9, and missed the target by 1\n",
      "Dave generated $13, and exceeded the target by 3\n",
      "Jessica generated $12, and exceeded the target by 2\n"
     ]
    }
   ],
   "source": [
    "for salesrep, revenue in sales.items():\n",
    "    hit_miss = 'exceeded' if revenue >= target else 'missed'\n",
    "    print(f'{salesrep} generated ${revenue}, and {hit_miss} the target by {abs(revenue-target)}')\n"
   ]
  },
  {
   "cell_type": "code",
   "execution_count": 4,
   "id": "3fa14928-11c7-4545-ab03-4b29976ff78d",
   "metadata": {
    "slideshow": {
     "slide_type": "slide"
    },
    "tags": []
   },
   "outputs": [
    {
     "data": {
      "text/html": [
       "<a href=\"https://example.com/salesrep/Jane\"><h3 style=\"color: darkblue\">Jane generated \\$11, and exceeded the target by $1</h3></a>"
      ]
     },
     "metadata": {},
     "output_type": "display_data"
    },
    {
     "data": {
      "text/html": [
       "<a href=\"https://example.com/salesrep/Joe\"><h3 style=\"color: darkred\">Joe generated \\$9, and missed the target by $1</h3></a>"
      ]
     },
     "metadata": {},
     "output_type": "display_data"
    },
    {
     "data": {
      "text/html": [
       "<a href=\"https://example.com/salesrep/Dave\"><h3 style=\"color: darkblue\">Dave generated \\$13, and exceeded the target by $3</h3></a>"
      ]
     },
     "metadata": {},
     "output_type": "display_data"
    },
    {
     "data": {
      "text/html": [
       "<a href=\"https://example.com/salesrep/Jessica\"><h3 style=\"color: darkblue\">Jessica generated \\$12, and exceeded the target by $2</h3></a>"
      ]
     },
     "metadata": {},
     "output_type": "display_data"
    }
   ],
   "source": [
    "for salesrep, revenue in sales.items():\n",
    "    hit_miss = 'exceeded' if revenue >= target else 'missed'\n",
    "    color = 'darkblue' if revenue >= target else 'darkred'\n",
    "    href = f'https://example.com/salesrep/{salesrep}'\n",
    "    display.display_html(f'<a href=\"{href}\"><h3 style=\"color: {color}\">{salesrep} generated \\${revenue}, ' \\\n",
    "                         f'and {hit_miss} the target by ${abs(revenue-target)}</h3></a>', raw=True)\n"
   ]
  },
  {
   "cell_type": "code",
   "execution_count": 5,
   "id": "845711af-6c62-40a6-8b28-214342f9701f",
   "metadata": {
    "slideshow": {
     "slide_type": "skip"
    },
    "tags": []
   },
   "outputs": [
    {
     "name": "stdout",
     "output_type": "stream",
     "text": [
      "[NbConvertApp] Converting notebook 03_dynamic_values.ipynb to slides\n",
      "[NbConvertApp] Writing 579043 bytes to 03_dynamic_values.slides.html\n"
     ]
    }
   ],
   "source": [
    "!jupyter nbconvert --to slides 03_dynamic_values.ipynb --no-input\n",
    "!open 03_dynamic_values.slides.html"
   ]
  }
 ],
 "metadata": {
  "kernelspec": {
   "display_name": "Python 3 (ipykernel)",
   "language": "python",
   "name": "python3"
  },
  "language_info": {
   "codemirror_mode": {
    "name": "ipython",
    "version": 3
   },
   "file_extension": ".py",
   "mimetype": "text/x-python",
   "name": "python",
   "nbconvert_exporter": "python",
   "pygments_lexer": "ipython3",
   "version": "3.10.1"
  }
 },
 "nbformat": 4,
 "nbformat_minor": 5
}
