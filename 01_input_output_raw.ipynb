{
 "cells": [
  {
   "cell_type": "code",
   "execution_count": 1,
   "id": "27bc6a2e-33ea-4ed8-8e1d-b5ec2868a116",
   "metadata": {
    "slideshow": {
     "slide_type": "slide"
    },
    "tags": []
   },
   "outputs": [
    {
     "name": "stdout",
     "output_type": "stream",
     "text": [
      "Hello, World!\n",
      "Slide 1\n"
     ]
    }
   ],
   "source": [
    "print('Hello, World!')\n",
    "print('Slide 1')"
   ]
  },
  {
   "cell_type": "code",
   "execution_count": 2,
   "id": "73f2d7e9-e0a7-4423-b957-7fe2a6f029bf",
   "metadata": {
    "slideshow": {
     "slide_type": "slide"
    },
    "tags": []
   },
   "outputs": [
    {
     "name": "stdout",
     "output_type": "stream",
     "text": [
      "Slide 2\n"
     ]
    }
   ],
   "source": [
    "print('Slide 2')"
   ]
  },
  {
   "cell_type": "code",
   "execution_count": 3,
   "id": "2fe3e835-0363-4918-b24d-2d556502f026",
   "metadata": {
    "slideshow": {
     "slide_type": "skip"
    },
    "tags": []
   },
   "outputs": [
    {
     "name": "stdout",
     "output_type": "stream",
     "text": [
      "[NbConvertApp] Converting notebook 01_input_output_raw.ipynb to slides\n",
      "[NbConvertApp] Writing 578973 bytes to 01_input_output_raw.slides.html\n"
     ]
    }
   ],
   "source": [
    "!jupyter nbconvert 01_input_output_raw.ipynb --to slides\n",
    "!open 01_input_output_raw.slides.html"
   ]
  },
  {
   "cell_type": "code",
   "execution_count": 4,
   "id": "90d7dc81-93ee-4981-a409-2e0244b09d97",
   "metadata": {
    "slideshow": {
     "slide_type": "skip"
    },
    "tags": []
   },
   "outputs": [
    {
     "name": "stdout",
     "output_type": "stream",
     "text": [
      "[NbConvertApp] Converting notebook 01_input_output_raw.ipynb to slides\n",
      "[NbConvertApp] Writing 577752 bytes to 01_input_output_raw.slides.html\n"
     ]
    }
   ],
   "source": [
    "!jupyter nbconvert 01_input_output_raw.ipynb --to slides --no-input\n",
    "!open 01_input_output_raw.slides.html"
   ]
  }
 ],
 "metadata": {
  "kernelspec": {
   "display_name": "Python 3 (ipykernel)",
   "language": "python",
   "name": "python3"
  },
  "language_info": {
   "codemirror_mode": {
    "name": "ipython",
    "version": 3
   },
   "file_extension": ".py",
   "mimetype": "text/x-python",
   "name": "python",
   "nbconvert_exporter": "python",
   "pygments_lexer": "ipython3",
   "version": "3.10.1"
  }
 },
 "nbformat": 4,
 "nbformat_minor": 5
}
